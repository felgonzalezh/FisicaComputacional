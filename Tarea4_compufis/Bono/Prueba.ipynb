{
 "metadata": {
  "name": "Prueba"
 }, 
 "nbformat": 2, 
 "worksheets": [
  {
   "cells": [
    {
     "cell_type": "code", 
     "collapsed": false, 
     "input": [
      "%pylab inline"
     ], 
     "language": "python", 
     "outputs": [
      {
       "output_type": "stream", 
       "stream": "stdout", 
       "text": [
        "", 
        "Welcome to pylab, a matplotlib-based Python environment [backend: module://IPython.zmq.pylab.backend_inline].", 
        "For more information, type 'help(pylab)'."
       ]
      }
     ], 
     "prompt_number": 2
    }, 
    {
     "cell_type": "code", 
     "collapsed": true, 
     "input": [
      "h=0.05", 
      "n_points = int((20.0+h)/h)", 
      "x = empty(n_points)", 
      "y_1 = empty(n_points)", 
      "y_2 = empty(n_points)"
     ], 
     "language": "python", 
     "outputs": [], 
     "prompt_number": 54
    }, 
    {
     "cell_type": "code", 
     "collapsed": true, 
     "input": [
      "#we use our initial conditions", 
      "x[0] = 0 # by definition", 
      "y_1[0] = 1.0", 
      "y_2[0] = 0.0"
     ], 
     "language": "python", 
     "outputs": [], 
     "prompt_number": 55
    }, 
    {
     "cell_type": "code", 
     "collapsed": false, 
     "input": [
      "def func_prime_1(x,y_1):", 
      "    return y_1", 
      "", 
      "def func_prime_2(x, y_1, y_2):", 
      "    return -4*sin(y_1)", 
      "", 
      "for i in range(1,n_points):", 
      "  ", 
      "    k1_1= func_prime_1(x[i-1],y_2[i-1])", 
      "    k1_2= func_prime_2(x[i-1],y_1[i-1],y_2[i-1])", 
      "    ", 
      "    #first step", 
      "    x1 = x[i-1] + (h/2.0)", 
      "    y1_1= y_1[i-1] + (h/2.0) * k1_1", 
      "    y2_1= y_2[i-1] + (h/2.0) * k1_2", 
      "    k2_1 = func_prime_1(x1, y2_1)", 
      "    k2_2 = func_prime_2(x1, y1_1, y2_1)", 
      "    ", 
      "    #second step", 
      "    x2 = x[i-1] + (h/2.0)", 
      "    y1_2 = y_1[i-1] + (h/2.0) * k2_1", 
      "    y2_2 = y_2[i-1] + (h/2.0) * k2_2", 
      "    k3_1 = func_prime_1(x2, y2_2)", 
      "    k3_2 = func_prime_2(x2, y1_2, y2_2)", 
      "        ", 
      "    #third step", 
      "    x3 = x[i-1] + h", 
      "    y1_3 = y_1[i-1] + h * k3_1", 
      "    y2_3 = y_2[i-1] + h * k3_2", 
      "    k4_1 = func_prime_1(x3, y2_3)", 
      "    k4_2 = func_prime_2(x3, y1_3, y2_3)", 
      "    ", 
      "    #fourth step", 
      "    average_k1 = (1.0/6.0)*(k1_1 + 2.0*k2_1 + 2.0*k3_1 + k4_1)", 
      "    average_k2 = (1.0/6.0)*(k1_2 + 2.0*k2_2 + 2.0*k3_2 + k4_2)", 
      "    ", 
      "    x[i] = x[i-1] + h", 
      "    y_1[i] = y_1[i-1] + h * k2_1", 
      "    y_2[i] = y_2[i-1] + h * k2_2", 
      "    "
     ], 
     "language": "python", 
     "outputs": [], 
     "prompt_number": 56
    }, 
    {
     "cell_type": "code", 
     "collapsed": false, 
     "input": [
      "plot(x,y_1, 'ko')", 
      "plt.xlabel('x')", 
      "plt.ylabel('y(x)')"
     ], 
     "language": "python", 
     "outputs": [
      {
       "output_type": "pyout", 
       "prompt_number": 57, 
       "text": [
        "<matplotlib.text.Text at 0x5b8af10>"
       ]
      }, 
      {
       "output_type": "display_data", 
       "png": "[encoded data removed]"
      }
     ], 
     "prompt_number": 57
    }, 
    {
     "cell_type": "code", 
     "collapsed": true, 
     "input": [], 
     "language": "python", 
     "outputs": []
    }
   ]
  }
 ]
}