{
 "metadata": {
  "name": "Bono"
 }, 
 "nbformat": 2, 
 "worksheets": [
  {
   "cells": [
    {
     "cell_type": "code", 
     "collapsed": false, 
     "input": [
      "%pylab inline"
     ], 
     "language": "python", 
     "outputs": [
      {
       "output_type": "stream", 
       "stream": "stdout", 
       "text": [
        "", 
        "Welcome to pylab, a matplotlib-based Python environment [backend: module://IPython.zmq.pylab.backend_inline].", 
        "For more information, type 'help(pylab)'."
       ]
      }
     ], 
     "prompt_number": 12
    }, 
    {
     "cell_type": "code", 
     "collapsed": true, 
     "input": [
      "h=0.05", 
      "T=2000 #millones de a\u00f1os", 
      "n_points=int((T+h)/h)", 
      "", 
      "Mc=10**12 #Masa del cuerpo central en masas solares", 
      "Rc=50*(10**3) #Radio externo del cuerpo central", 
      "Rm=3*(10**16) #valor en metros de 1 parsec", 
      "part=100", 
      "R=empty(part)", 
      "Ms=1.9885*(10**30) #Masa solar en kg", 
      "M=Ms*Mc #Masa del cuerpo central en kg", 
      "G=6.674*(10**-11) #Constante gravitacional", 
      "R[0]=(Rc+10*(10**3))*Rm", 
      "for i in range(1,part):", 
      "    R[i]=Rc+10*(10**3)*(i+1)", 
      "    R[i]=R[i]*Rm", 
      "", 
      "#Condiciones iniciales", 
      "r0=empty(part)", 
      "v0=empty(part)", 
      "", 
      "for i in range(1,part):", 
      "    r0[i-1]=R[i-1]", 
      "    v0[i-1]=sqrt(G*M/(r0[i-1]))"
     ], 
     "language": "python", 
     "outputs": [], 
     "prompt_number": 15
    }, 
    {
     "cell_type": "code", 
     "collapsed": false, 
     "input": [
      "r=empty(n_points) #posicion (radio)", 
      "v=empty(n_points) #velocidad radial", 
      "a=empty(n_points) #aceleracion radial", 
      "r[0]=r0[0]", 
      "v[0]=v0[0]", 
      "", 
      "", 
      "def func_prime_1(r,v):", 
      "    return v", 
      "", 
      "def func_prime_2(r, v, a):", 
      "    return -G*M/(r**2)", 
      "", 
      "for i in range(1,n_points):", 
      "  ", 
      "    k1_1= func_prime_1(r[i-1],a[i-1])", 
      "    k1_2= func_prime_2(r[i-1],v[i-1],a[i-1])", 
      "    ", 
      "    #first step", 
      "    r1 = r[i-1] + (h/2.0)", 
      "    v1= v[i-1] + (h/2.0) * k1_1", 
      "    a1= a[i-1] + (h/2.0) * k1_2", 
      "    k2_1 = func_prime_1(r1, a1)", 
      "    k2_2 = func_prime_2(r1, v1, a1)", 
      "    ", 
      "    #second step", 
      "    r2 = r[i-1] + (h/2.0)", 
      "    v2 = v[i-1] + (h/2.0) * k2_1", 
      "    a2 = a[i-1] + (h/2.0) * k2_2", 
      "    k3_1 = func_prime_1(r2, a2)", 
      "    k3_2 = func_prime_2(r2, v2, a2)", 
      "        ", 
      "    #third step", 
      "    r3 = r[i-1] + h", 
      "    v3 = v[i-1] + h * k3_1", 
      "    a3 = a[i-1] + h * k3_2", 
      "    k4_1 = func_prime_1(r3, a3)", 
      "    k4_2 = func_prime_2(r3, v3, a3)", 
      "    ", 
      "    #fourth step", 
      "    average_k1 = (1.0/6.0)*(k1_1 + 2.0*k2_1 + 2.0*k3_1 + k4_1)", 
      "    average_k2 = (1.0/6.0)*(k1_2 + 2.0*k2_2 + 2.0*k3_2 + k4_2)", 
      "    ", 
      "    r[i] = r[i-1] + h", 
      "    v[i] = v[i-1] + h * average_k1", 
      "    a[i] = a[i-1] + h * average_k2"
     ], 
     "language": "python", 
     "outputs": [], 
     "prompt_number": 16
    }, 
    {
     "cell_type": "code", 
     "collapsed": false, 
     "input": [
      "omega=empty(n_points)", 
      "omega[0]=v0[0]/r0[0]", 
      "t=empty(6)", 
      "theta=empty(6)", 
      "x=empty(6)", 
      "y=empty(6)", 
      "pt=400", 
      "t[0]=0", 
      "theta[0]=0", 
      "x[0]=r0[0]", 
      "y[0]=0", 
      "for i in range(1,n_points):", 
      "    omega[i]=v[i]/r[i]", 
      "for i in range(1,6):", 
      "    t[i]=t[i-1]+pt", 
      "    t[i]=t[i]*(10**6)*365*24*3600", 
      "    theta[i]=omega[i*400]*t[i]", 
      "    x[i]=r[i*400]*cos(theta[i])", 
      "    y[i]=r[i*400]*sin(theta[i])", 
      "", 
      "plot(x,y,'ko')"
     ], 
     "language": "python", 
     "outputs": [
      {
       "output_type": "pyout", 
       "prompt_number": 39, 
       "text": [
        "[<matplotlib.lines.Line2D at 0x4f5c170>]"
       ]
      }, 
      {
       "output_type": "display_data", 
       "png": "[encoded data removed]"
      }
     ], 
     "prompt_number": 39
    }, 
    {
     "cell_type": "code", 
     "collapsed": false, 
     "input": [], 
     "language": "python", 
     "outputs": [], 
     "prompt_number": 36
    }, 
    {
     "cell_type": "code", 
     "collapsed": true, 
     "input": [], 
     "language": "python", 
     "outputs": []
    }
   ]
  }
 ]
}